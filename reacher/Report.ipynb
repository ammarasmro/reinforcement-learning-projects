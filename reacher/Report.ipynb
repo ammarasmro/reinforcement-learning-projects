{
 "cells": [
  {
   "cell_type": "markdown",
   "metadata": {},
   "source": [
    "# Methodology"
   ]
  },
  {
   "cell_type": "markdown",
   "metadata": {},
   "source": [
    "## Algorithm: DDGP"
   ]
  },
  {
   "cell_type": "markdown",
   "metadata": {},
   "source": [
    "To solve this task, we used Deep Deterministic Policy Gradient (DDPG). This algorithm is known as Actor-Critic. It uses two neural nets, one to get the best action, then the second takes that action to output the value of that action. This algorithm is used with continuous space actions as it's hard to apply DQN for those. "
   ]
  },
  {
   "cell_type": "markdown",
   "metadata": {},
   "source": [
    "## Model"
   ]
  },
  {
   "cell_type": "markdown",
   "metadata": {},
   "source": [
    "For the model I used the Actor-Critic method to solve this task. \n",
    "\n",
    "**Model Architecture**\n",
    "\n",
    "*Actor*\n",
    "1. Batch Normalization layer | shape(in = 33, out = 33)\n",
    "2. Linear layer | shape(in = 33, out = 200)\n",
    "3. Batch Normalization layer | shape(in = 200, out = 200)\n",
    "4. ReLU activation layer\n",
    "5. Linear layer | shape(in = 200, out = 150)\n",
    "6. Batch Normalization layer | shape(in = 150, out = 150)\n",
    "7. ReLU activation layer\n",
    "8. Linear layer | shape(in = 150, out = 4)\n",
    "9. Tanh Activation\n",
    "\n",
    "*Critic*\n",
    "1. Batch Normalization layer | shape(in = 33, out = 33)\n",
    "2. Linear layer | shape(in = 33, out = 200)\n",
    "3. ReLU activation layer\n",
    "4. Concat action to fcs1 | (in = 200, out = 204)\n",
    "5. Linear layer | shape(in = 204, out = 150)\n",
    "6. ReLU activation layer\n",
    "7. Linear layer | shape(in = 150, out = 4)\n",
    "\n",
    "\n",
    "After many experiments and getting very unstable results, batch normalization was the solution left and it saved the day. The improvement in performance over time was much more stable and yielded better results.\n",
    "\n",
    "**Hyper Parameters**\n",
    "```\n",
    "BUFFER_SIZE = int(1e6)  # replay buffer size\n",
    "BATCH_SIZE = 256        # minibatch size\n",
    "GAMMA = 0.99            # discount factor\n",
    "TAU = 1e-3              # for soft update of target parameters\n",
    "LR_ACTOR = 1e-3         # learning rate of the actor\n",
    "LR_CRITIC = 1e-3        # learning rate of the critic\n",
    "WEIGHT_DECAY = 0        # L2 weight decay\n",
    "```\n",
    "The task is hard as we are trying to train 20 agents and the average of their performance should be over 30 over 100 episodes. Alot of tuning had to be done. The batches of experiences that are fed to the model affected the performance drastically. Their might be a set of experiences that need to be seen together for the model to learn better.  \n",
    "\n",
    "Another parameter that was reset later was the number of time steps to train in for each episode. The model couldn't pass a 26 average reward until we eliminated the limit on those steps. Making the agent keep going till we get a **done** signal significantly improved the performance."
   ]
  },
  {
   "cell_type": "markdown",
   "metadata": {},
   "source": [
    "# Results"
   ]
  },
  {
   "cell_type": "code",
   "execution_count": 1,
   "metadata": {},
   "outputs": [],
   "source": [
    "from pathlib import Path\n",
    "import numpy as np\n",
    "import pandas as pd\n",
    "import matplotlib.pyplot as plt"
   ]
  },
  {
   "cell_type": "code",
   "execution_count": 2,
   "metadata": {},
   "outputs": [
    {
     "data": {
      "text/html": [
       "<div>\n",
       "<style scoped>\n",
       "    .dataframe tbody tr th:only-of-type {\n",
       "        vertical-align: middle;\n",
       "    }\n",
       "\n",
       "    .dataframe tbody tr th {\n",
       "        vertical-align: top;\n",
       "    }\n",
       "\n",
       "    .dataframe thead th {\n",
       "        text-align: right;\n",
       "    }\n",
       "</style>\n",
       "<table border=\"1\" class=\"dataframe\">\n",
       "  <thead>\n",
       "    <tr style=\"text-align: right;\">\n",
       "      <th></th>\n",
       "      <th>episode</th>\n",
       "      <th>average-100</th>\n",
       "      <th>score</th>\n",
       "    </tr>\n",
       "  </thead>\n",
       "  <tbody>\n",
       "    <tr>\n",
       "      <th>0</th>\n",
       "      <td>1</td>\n",
       "      <td>0.81</td>\n",
       "      <td>0.81</td>\n",
       "    </tr>\n",
       "    <tr>\n",
       "      <th>1</th>\n",
       "      <td>2</td>\n",
       "      <td>0.71</td>\n",
       "      <td>0.62</td>\n",
       "    </tr>\n",
       "    <tr>\n",
       "      <th>2</th>\n",
       "      <td>3</td>\n",
       "      <td>0.77</td>\n",
       "      <td>0.88</td>\n",
       "    </tr>\n",
       "    <tr>\n",
       "      <th>3</th>\n",
       "      <td>4</td>\n",
       "      <td>0.74</td>\n",
       "      <td>0.67</td>\n",
       "    </tr>\n",
       "    <tr>\n",
       "      <th>4</th>\n",
       "      <td>5</td>\n",
       "      <td>0.77</td>\n",
       "      <td>0.86</td>\n",
       "    </tr>\n",
       "  </tbody>\n",
       "</table>\n",
       "</div>"
      ],
      "text/plain": [
       "   episode  average-100  score\n",
       "0        1         0.81   0.81\n",
       "1        2         0.71   0.62\n",
       "2        3         0.77   0.88\n",
       "3        4         0.74   0.67\n",
       "4        5         0.77   0.86"
      ]
     },
     "execution_count": 2,
     "metadata": {},
     "output_type": "execute_result"
    }
   ],
   "source": [
    "output_path = Path('.')\n",
    "statuses = pd.read_csv((output_path / 'statuses.csv'), names=['episode', 'average-100', 'score'])\n",
    "statuses.head()"
   ]
  },
  {
   "cell_type": "code",
   "execution_count": 4,
   "metadata": {
    "scrolled": false
   },
   "outputs": [
    {
     "data": {
      "image/png": "[encoded data removed]",
      "text/plain": [
       "<Figure size 1080x432 with 1 Axes>"
      ]
     },
     "metadata": {},
     "output_type": "display_data"
    }
   ],
   "source": [
    "statuses.plot(x='episode', figsize=(15,6))\n",
    "plt.savefig('rolling_mean_vs_score.png')\n",
    "plt.show()"
   ]
  },
  {
   "cell_type": "markdown",
   "metadata": {},
   "source": [
    "Environment was solved in **130** episodes!"
   ]
  },
  {
   "cell_type": "markdown",
   "metadata": {},
   "source": [
    "# Analysis"
   ]
  },
  {
   "cell_type": "markdown",
   "metadata": {},
   "source": [
    "This model was one of the hardest to train. Even training one agent didn't seem easy. Many steps were taken to reach the best solution. Hyper parameter tuning had a unique impact as it usually affected the stability of the agent. Small changes here couldn't solve the problem as we are trying to solve it over 100 episodes so one successful spike wouldn't help. Tricks like using gradient clippling and training till the environment is **\"done\"** in each episode had much more effect on boosting the score."
   ]
  },
  {
   "cell_type": "markdown",
   "metadata": {},
   "source": [
    "# Future Plans"
   ]
  },
  {
   "cell_type": "markdown",
   "metadata": {},
   "source": [
    "1. Train different numbers of agents to measure the effect on performance.\n",
    "2. Test training 10 times every 20 episodes, like the benchmark implementation suggests.\n",
    "3. Test using hard updates instead of soft updates"
   ]
  },
  {
   "cell_type": "code",
   "execution_count": null,
   "metadata": {},
   "outputs": [],
   "source": []
  }
 ],
 "metadata": {
  "kernelspec": {
   "display_name": "Python 3",
   "language": "python",
   "name": "python3"
  },
  "language_info": {
   "codemirror_mode": {
    "name": "ipython",
    "version": 3
   },
   "file_extension": ".py",
   "mimetype": "text/x-python",
   "name": "python",
   "nbconvert_exporter": "python",
   "pygments_lexer": "ipython3",
   "version": "3.6.5"
  }
 },
 "nbformat": 4,
 "nbformat_minor": 2
}
